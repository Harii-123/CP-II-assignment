{
 "cells": [
  {
   "cell_type": "markdown",
   "id": "0ab75c7c",
   "metadata": {},
   "source": [
    "![Python logo](https://www.bing.com/th?id=OIP.8mB0JRId2fMaxxmyMOZecAHaIO&w=237&h=263&c=8&rs=1&qlt=90&o=6&pid=3.1&rm=2)"
   ]
  },
  {
   "cell_type": "markdown",
   "id": "81da7852",
   "metadata": {},
   "source": [
    "## COMPUTER PROGRAMMING-II (PROGRAMMING IN PYTHON)  ASSIGNMENT - I"
   ]
  },
  {
   "cell_type": "markdown",
   "id": "4179b78e",
   "metadata": {},
   "source": [
    "## NAME : HARII SARAVANAN A\n",
    "## DEPARTMENT : ARTIFICIAL INTELLIGENCE AND DATA SCIENCE\n",
    "## YEAR/SEMESTER/SECTION : I / II /  A\n"
   ]
  },
  {
   "cell_type": "markdown",
   "id": "318e49f9",
   "metadata": {},
   "source": [
    "## PROGRAM"
   ]
  },
  {
   "cell_type": "markdown",
   "id": "ebe43848",
   "metadata": {},
   "source": [
    "### check if the number is an Armstrong number or not"
   ]
  },
  {
   "cell_type": "code",
   "execution_count": null,
   "id": "c38ec06b",
   "metadata": {},
   "outputs": [],
   "source": [
    "#NUMBER IS ARMSTRONG OR NOT\n",
    "import math as m1\n",
    "number=int(input(\"Enter a number:\"))\n",
    "digit=int(m1.log10(number)+1)\n",
    "sum=0\n",
    "temp=number\n",
    "while temp > 0:\n",
    "    digit_1 = temp%10;\n",
    "    sum+=digit_1 ** digit\n",
    "    temp//=10\n",
    "if number == sum:\n",
    "    print(number,\"is an armstrong number\")\n",
    "else:\n",
    "    print(number,\"is not an armstrong number\")"
   ]
  },
  {
   "cell_type": "markdown",
   "id": "61f7d0b2",
   "metadata": {},
   "source": [
    "### Write a function called show_stars(rows). If rows are 5, it should print the following:"
   ]
  },
  {
   "cell_type": "code",
   "execution_count": null,
   "id": "cc424c59",
   "metadata": {},
   "outputs": [],
   "source": [
    "# program to print star pattern in 5 rows\n",
    "for i in range(1,6):\n",
    "    for j in range(1,i+1):\n",
    "        print(\"*\",end=\"\")\n",
    "    print(\"\\r\")"
   ]
  },
  {
   "cell_type": "markdown",
   "id": "ebdc3f97",
   "metadata": {},
   "source": [
    "### Write a program to remove characters from a string starting from zero up to n and return a new string."
   ]
  },
  {
   "cell_type": "code",
   "execution_count": null,
   "id": "e231e4d2",
   "metadata": {},
   "outputs": [],
   "source": [
    "#program to remove characters from a string\n",
    "val=str(input(\"Enter a string:\"))\n",
    "n = int(input(\"Enter the number to remove string:\"))\n",
    "val_1=str(input(\"Enter a new {} character :\".format(n)))\n",
    "x=val[n:]\n",
    "y = val_1 + x\n",
    "print(y)"
   ]
  },
  {
   "cell_type": "markdown",
   "id": "8e934b2c",
   "metadata": {},
   "source": [
    "### Iterate the given list of numbers and print only those numbers which are divisible by 5"
   ]
  },
  {
   "cell_type": "code",
   "execution_count": null,
   "id": "f9f3a448",
   "metadata": {},
   "outputs": [],
   "source": [
    "#given list of numbers and print only those numbers which are divisible by 5\n",
    "list_1= [100,23,405,12,34,68,55,95,75,34,80]\n",
    "print(\"List of number divisible by 5\")\n",
    "for i in list_1:\n",
    "    if i % 5 == 0:\n",
    "        print(i)"
   ]
  },
  {
   "cell_type": "markdown",
   "id": "0f91a388",
   "metadata": {},
   "source": [
    "### Write a program to find how many times substring “Hi” appears in the given string."
   ]
  },
  {
   "cell_type": "code",
   "execution_count": null,
   "id": "26334ebe",
   "metadata": {},
   "outputs": [],
   "source": [
    "#find how many times substring “Hi” appears in the given string.\n",
    "str_2=str(input(\"Enter the string:\"))\n",
    "start= 0\n",
    "end = len(str_2)\n",
    "count = str_2.count('hi',start,end)\n",
    "print(\"sbustring 'hi' appear in given string is\",count)"
   ]
  },
  {
   "cell_type": "markdown",
   "id": "4af4d152",
   "metadata": {},
   "source": [
    "### Print the following pattern"
   ]
  },
  {
   "cell_type": "code",
   "execution_count": null,
   "id": "ca8090d9",
   "metadata": {},
   "outputs": [],
   "source": [
    "for i in range(1,6):\n",
    "    for j in range(1,i+1):\n",
    "        print(i,end=\"\")\n",
    "    print(\"\\r\")"
   ]
  },
  {
   "cell_type": "markdown",
   "id": "166a1ea0",
   "metadata": {},
   "source": [
    "### Python program to interchange first and last elements in a list"
   ]
  },
  {
   "cell_type": "code",
   "execution_count": null,
   "id": "62492548",
   "metadata": {},
   "outputs": [],
   "source": [
    "def list_swap(lit,n):\n",
    "    temp=lit[0]\n",
    "    lit[0] = lit[n-1]\n",
    "    lit[n-1] = temp\n",
    "    \n",
    "    return lit\n",
    "    \n",
    "list_2=[23,90,89,273,38,904]\n",
    "l = len(list_2)\n",
    "print(list_swap(list_2,l))"
   ]
  },
  {
   "cell_type": "markdown",
   "id": "479ad6d7",
   "metadata": {},
   "source": [
    "### Python program to swap two elements in a list"
   ]
  },
  {
   "cell_type": "code",
   "execution_count": null,
   "id": "658d3d25",
   "metadata": {},
   "outputs": [],
   "source": [
    "def list_swap1(lit_1,position_1,position_2):\n",
    "    temp = lit_1[position_1]\n",
    "    lit_1[position_1] = lit_1[position_2]\n",
    "    lit_1[position_2] = temp\n",
    "    return lit_1\n",
    "   \n",
    "    \n",
    "list_3=[38,49,59,2,38,78,21]\n",
    "print(\"Before swapping list\",list_3)\n",
    "position_1 = int(input(\"Enter the first position:\"))\n",
    "position_2 = int(input(\"Enter the second position:\"))\n",
    "print(list_swap1(list_3,position_1-1,position_2-1))"
   ]
  },
  {
   "cell_type": "markdown",
   "id": "6d25f1c1",
   "metadata": {},
   "source": [
    "### Python | Ways to find length of list"
   ]
  },
  {
   "cell_type": "code",
   "execution_count": null,
   "id": "f59bcd07",
   "metadata": {},
   "outputs": [],
   "source": [
    "list_4=[37,\"eeje\",383,'jaja',9203]\n",
    "count_1 =0\n",
    "for i in list_4:\n",
    "    count_1+=1\n",
    "print(\"length of list:\",count_1)"
   ]
  },
  {
   "cell_type": "markdown",
   "id": "9d593499",
   "metadata": {},
   "source": [
    "### Maximum of two numbers in Python"
   ]
  },
  {
   "cell_type": "code",
   "execution_count": null,
   "id": "dfe55e5a",
   "metadata": {},
   "outputs": [],
   "source": [
    "def list_max(lit_2,position_3,position_4):\n",
    "    if lit_2[position_3] > lit_2[position_4]:\n",
    "        return lit_2[position_3]\n",
    "    else:\n",
    "        return lit_2[position_4]\n",
    "   \n",
    "    \n",
    "list_5=[102,939,101,23,190,293,192]\n",
    "print(\"position will 1 to \",len(list_5))\n",
    "position_3 = int(input(\"Enter the first position:\"))\n",
    "position_4 = int(input(\"Enter the second position:\"))\n",
    "print(list_max(list_5,position_3-1,position_4-1))"
   ]
  },
  {
   "cell_type": "markdown",
   "id": "4bc1086d",
   "metadata": {},
   "source": [
    "### Minimum of two numbers in Python"
   ]
  },
  {
   "cell_type": "code",
   "execution_count": null,
   "id": "5cf40ec9",
   "metadata": {},
   "outputs": [],
   "source": [
    "def list_max(lit_2,position_3,position_4):\n",
    "    if lit_2[position_3] > lit_2[position_4]:\n",
    "        return lit_2[position_3]\n",
    "    else:\n",
    "        return lit_2[position_4]\n",
    "   \n",
    "    \n",
    "list_5=[102,939,101,23,190,293,192]\n",
    "print(\"position will 1 to \",len(list_5))\n",
    "position_3 = int(input(\"Enter the first position:\"))\n",
    "position_4 = int(input(\"Enter the second position:\"))\n",
    "print(\"Maximum number of {} and {} is {}\".format(list_5[position_3-1],list_5[position_4-1],list_max(list_5,position_3-1,position_4-1)))"
   ]
  },
  {
   "cell_type": "markdown",
   "id": "cbc13bbc",
   "metadata": {},
   "source": [
    "### Minimum of two numbers in Python"
   ]
  },
  {
   "cell_type": "code",
   "execution_count": null,
   "id": "bba9c9f4",
   "metadata": {},
   "outputs": [],
   "source": [
    "def list_min(lit_3,position_5,position_6):\n",
    "    if lit_3[position_5] < lit_3[position_6]:\n",
    "        return lit_3[position_5]\n",
    "    else:\n",
    "        return lit_3[position_6]\n",
    "   \n",
    "    \n",
    "list_6=[122,39,181,903,1190,2903,12]\n",
    "print(\"position will 1 to \",len(list_6))\n",
    "position_5 = int(input(\"Enter the first position:\"))\n",
    "position_6 = int(input(\"Enter the second position:\"))\n",
    "print(\"Minimum number of {} and {} is {}\".format(list_6[position_5-1],list_6[position_6-1],list_min(list_6,position_5-1,position_6-1)))"
   ]
  },
  {
   "cell_type": "markdown",
   "id": "38acb781",
   "metadata": {},
   "source": [
    "### Python program to check whether the string is Symmetrical or Palindrome"
   ]
  },
  {
   "cell_type": "code",
   "execution_count": null,
   "id": "71d3d64f",
   "metadata": {},
   "outputs": [],
   "source": [
    "string_1 = str(input(\"Enter a string:\"))\n",
    "half = int(len(string_1)/2)\n",
    "if len(string_1)%2 == 0:\n",
    "    first_string=string_1[:half]\n",
    "    second_string = string_1[half:]\n",
    "else:\n",
    "    first_string = string_1[:half]\n",
    "    second_string = string_1[half+1:]\n",
    "    \n",
    "if first_string == second_string:\n",
    "    print(string_1,\"string is symmetric\")\n",
    "else:\n",
    "    print(string_1,\"string is not symmetric\")\n",
    "    \n",
    "if first_string == second_string[::-1]:\n",
    "    print(string_1,\"string is pallindrome\")\n",
    "else:\n",
    "    print(string_1,\"string is not pallindrome\")"
   ]
  },
  {
   "cell_type": "markdown",
   "id": "15d4d14b",
   "metadata": {},
   "source": [
    "### Reverse words in a given String in Python"
   ]
  },
  {
   "cell_type": "code",
   "execution_count": null,
   "id": "3e53b245",
   "metadata": {},
   "outputs": [],
   "source": [
    "def reverse(st):\n",
    "    return st[::-1]\n",
    "    \n",
    "    \n",
    "str_6 = str(input(\"Enter a string\"))\n",
    "print(\"Reverse string :\",reverse(str_6))"
   ]
  },
  {
   "cell_type": "markdown",
   "id": "3527c2cf",
   "metadata": {},
   "source": [
    "### Ways to remove i’th character from string in Python"
   ]
  },
  {
   "cell_type": "code",
   "execution_count": null,
   "id": "e7db9fb9",
   "metadata": {},
   "outputs": [],
   "source": [
    "st_1 = str(input(\"Enter a string\"))\n",
    "print(\"Remove i chracter from string is\",st_1.replace(\"i\",\"\"))"
   ]
  },
  {
   "cell_type": "markdown",
   "id": "c0429009",
   "metadata": {},
   "source": [
    "### Python program to Find the size of a Tuple"
   ]
  },
  {
   "cell_type": "code",
   "execution_count": null,
   "id": "063988de",
   "metadata": {},
   "outputs": [],
   "source": [
    "t1 = (\"hi\",29,910,9.3,8+9j,\"haha\")\n",
    "print(\"Tuple size is\",len(t1))"
   ]
  },
  {
   "cell_type": "markdown",
   "id": "0a728258",
   "metadata": {},
   "source": [
    "###  Python – Maximum and Minimum K elements in Tuple"
   ]
  },
  {
   "cell_type": "code",
   "execution_count": null,
   "id": "1cc17c22",
   "metadata": {},
   "outputs": [],
   "source": [
    "t2 = (90,83,490,20,101,25,202,392,9200,98)\n",
    "k = int(input(\"Enter k element to maximum and minimum element between 1 to {}:\".format(len(t2))))\n",
    "t2 = list(t2)\n",
    "t2 = sorted(t2)\n",
    "print(\"Maximum and Minimum k element\", t2[:k]+t2[-k:])"
   ]
  },
  {
   "cell_type": "markdown",
   "id": "21230d6e",
   "metadata": {},
   "source": [
    "### Python – Sum of tuple elements"
   ]
  },
  {
   "cell_type": "code",
   "execution_count": null,
   "id": "ae4005fb",
   "metadata": {},
   "outputs": [],
   "source": [
    "t3 = (12,73,894,29,90,192)\n",
    "sum_1 = 0\n",
    "for i in range(len(t3)):\n",
    "    sum_1 += t3[i]\n",
    "print(\"Sum of tuple:\",sum_1)"
   ]
  },
  {
   "cell_type": "markdown",
   "id": "8a6774cb",
   "metadata": {},
   "source": [
    "### Python | Sort Python Dictionaries by Key or Value"
   ]
  },
  {
   "cell_type": "code",
   "execution_count": null,
   "id": "812bb9f7",
   "metadata": {},
   "outputs": [],
   "source": [
    "key_value = {2:12 , 3:10, 5:19 ,1:9 ,4:8}\n",
    "\n",
    "print(\"Sort dictionary key and value in set\")\n",
    "\n",
    "for i in sorted(key_value):\n",
    "    print({i,key_value[i]},end=\" \")"
   ]
  },
  {
   "cell_type": "markdown",
   "id": "8eff256b",
   "metadata": {},
   "source": [
    "### Python dictionary with keys having multiple inputs"
   ]
  },
  {
   "cell_type": "code",
   "execution_count": null,
   "id": "0bdbb711",
   "metadata": {},
   "outputs": [],
   "source": [
    "dict_1 = {}\n",
    "\n",
    "d,e,f = 2,8,7\n",
    "o,p,q = 1,5,3\n",
    "\n",
    "dict_1[\"g+i-q\"] = [d*e-f,o+p//q]\n",
    "print(dict_1)"
   ]
  },
  {
   "cell_type": "markdown",
   "id": "19f8d198",
   "metadata": {},
   "source": [
    "### Find the size of a Set in Python"
   ]
  },
  {
   "cell_type": "code",
   "execution_count": null,
   "id": "258b6686",
   "metadata": {},
   "outputs": [],
   "source": [
    "set_1 = {89,\"ddd\",1.2,9+8j,182,\"haha\"}\n",
    "\n",
    "print(\"size of a set:\",len(set_1))"
   ]
  },
  {
   "cell_type": "markdown",
   "id": "d0a46b1f",
   "metadata": {},
   "source": [
    "### Iterate over a set in Python"
   ]
  },
  {
   "cell_type": "code",
   "execution_count": null,
   "id": "dd881aa4",
   "metadata": {},
   "outputs": [],
   "source": [
    "set_2 = {67,90.1,8+1j,\"ja\",78.1,900,(18,23)}\n",
    "\n",
    "print(\"Iterate all over a set\")\n",
    "\n",
    "for i in set_2:\n",
    "    print(i ,end=\" \")"
   ]
  },
  {
   "cell_type": "markdown",
   "id": "ba0cd162",
   "metadata": {},
   "source": [
    "### Python – Assigning Subsequent Rows to Matrix first row elements"
   ]
  },
  {
   "cell_type": "code",
   "execution_count": null,
   "id": "1d9596af",
   "metadata": {},
   "outputs": [],
   "source": [
    "mat_1 = [[23,89,10],[21,90,67],[93,69,45],[90,100,29]]\n",
    "print(\"Subsequent rows to matrix first row element\\n\")\n",
    "\n",
    "for i in range(len(mat_1)-1):\n",
    "    res = {mat_1[0][i]:mat_1[i+1]}\n",
    "print(res)"
   ]
  },
  {
   "cell_type": "markdown",
   "id": "d2709fad",
   "metadata": {},
   "source": [
    "### Adding and Subtracting Matrices in Python"
   ]
  },
  {
   "cell_type": "code",
   "execution_count": null,
   "id": "df21e2ab",
   "metadata": {},
   "outputs": [],
   "source": [
    "mat_2 = [[23,12,9],[29,87,67],[45,90,12]]\n",
    "mat_3 = [[2,10,2],[23,7,17],[42,9,1]]\n",
    "mat_4 = [[0,0,0],[0,0,0],[0,0,0]]\n",
    "mat_5 = [[0,0,0],[0,0,0],[0,0,0]]\n",
    "for i in range(len(mat_2)):\n",
    "    for j in range(len(mat_2[0])):\n",
    "        mat_4[i][j] = mat_2[i][j] + mat_3[i][j]\n",
    "        mat_5[i][j] = mat_2[i][j] - mat_3[i][j]\n",
    "            \n",
    "print(\"Matrix addition:\",mat_4)\n",
    "print(\"Matrix subtraction:\",mat_5)"
   ]
  },
  {
   "cell_type": "markdown",
   "id": "7110e02e",
   "metadata": {},
   "source": [
    "### How to get list of parameters name from a function in Python?"
   ]
  },
  {
   "cell_type": "code",
   "execution_count": null,
   "id": "0ef73033",
   "metadata": {},
   "outputs": [],
   "source": [
    "import inspect\n",
    "def func(z,y,x):\n",
    "    return z*y*c\n",
    "\n",
    "print(inspect.signature(func))"
   ]
  },
  {
   "cell_type": "markdown",
   "id": "282b6091",
   "metadata": {},
   "source": [
    "### How to Print Multiple Arguments in Python?"
   ]
  },
  {
   "cell_type": "code",
   "execution_count": null,
   "id": "c5186ade",
   "metadata": {},
   "outputs": [],
   "source": [
    "def display_1(sy,com=8+9j,numb=90,poi=10.2):\n",
    "    print(\"string: {} , complex: {}, number: {}, floting: {}\".format(sy,com,numb,poi))\n",
    "    \n",
    "display_1(\"hai\")\n",
    "display_1(\"haha\",90+7j)\n",
    "display_1(\"hh\",100+7j,100)\n",
    "display_1(\"hi\",81+10j,78,9.2)"
   ]
  },
  {
   "cell_type": "markdown",
   "id": "47ae038f",
   "metadata": {},
   "source": [
    "## Thank You"
   ]
  }
 ],
 "metadata": {
  "kernelspec": {
   "display_name": "Python 3 (ipykernel)",
   "language": "python",
   "name": "python3"
  },
  "language_info": {
   "codemirror_mode": {
    "name": "ipython",
    "version": 3
   },
   "file_extension": ".py",
   "mimetype": "text/x-python",
   "name": "python",
   "nbconvert_exporter": "python",
   "pygments_lexer": "ipython3",
   "version": "3.9.12"
  }
 },
 "nbformat": 4,
 "nbformat_minor": 5
}
